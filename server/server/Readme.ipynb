{
 "cells": [
  {
   "cell_type": "markdown",
   "metadata": {},
   "source": [
    "--> **amazone satelite data** (output : Deforestation and Pollution Probability ) : <a href=\"https://drive.google.com/file/d/1-7DcgQoD0yk-EGOAdff7kFgtzinalxdc/view?usp=sharing\" target=\"_blank\">drive/MyDrive/model.keras</a>\n",
    "\n",
    "--> **satelite image classification** ( output_labels : cloudy,water,green_area,desert) :<a href=\"https://drive.google.com/file/d/1etV_LZBfz4kMXNQxT3R1PiMOFJY2j1jz/view?usp=sharing\" target=\"_blank\">drive/MyDrive/satelite_image.keras</a>\n",
    "\n",
    "--> **Iot Data Air Quality Prediction** (output_labels:Good,Moderate,Unhealthy_for_Sensitive_Groups,Unhealthy,Very_Unhealthy,Severe): \n",
    "<a href=\"https://drive.google.com/file/d/1-0b-MCPzlYQPKpQjs0UXSIjvE35TZ-Hu/view?usp=sharing\" target=\"_blank\">drive/MyDrive/iot.pkl</a>"
   ]
  },
  {
   "cell_type": "markdown",
   "metadata": {},
   "source": [
    "****************************************************************************************"
   ]
  },
  {
   "cell_type": "markdown",
   "metadata": {},
   "source": [
    "##### IMPORTANT LIBRARIES FOR LOAD MODEL \n",
    "###### FOR KERAS MODEL\n",
    "` from tensorflow.keras.models import load_model `\n",
    "\n",
    "###### FOR PKL MODELS\n",
    "` import pickle as pkl `\n"
   ]
  },
  {
   "cell_type": "markdown",
   "metadata": {},
   "source": [
    "<hr>"
   ]
  },
  {
   "cell_type": "markdown",
   "metadata": {},
   "source": [
    "##### EXAMPLES\n",
    "` model=load_model(\"drive/MyDrive/model.keras\") `<br>\n",
    "` satelite_model=load_model(\"drive/MyDrive/satelite_image.keras\") `<br>\n",
    "` iot_pipeline=pkl.load(open(\"drive/MyDrive/iot.pkl\",\"rb\")) `"
   ]
  },
  {
   "cell_type": "markdown",
   "metadata": {},
   "source": [
    "<hr>"
   ]
  },
  {
   "cell_type": "markdown",
   "metadata": {},
   "source": [
    "##### FUNCTIONS FOR MODELS\n",
    "\n",
    "#### FOR DEFORESTATION\n",
    "\n",
    "  "
   ]
  },
  {
   "cell_type": "code",
   "execution_count": null,
   "metadata": {
    "vscode": {
     "languageId": "plaintext"
    }
   },
   "outputs": [],
   "source": [
    "from tensorflow.keras.preprocessing import image\n",
    "\n",
    "def predict_deforestation_pollution(model, img_path, img_size=(224, 224)):\n",
    "\n",
    "    img = image.load_img(img_path, target_size=img_size)\n",
    "    x = image.img_to_array(img)\n",
    "    x = np.expand_dims(x, axis=0)\n",
    "    x = x / 255.0\n",
    "\n",
    "    preds = model.predict(x)\n",
    "\n",
    "    return preds\n",
    "\n"
   ]
  },
  {
   "cell_type": "markdown",
   "metadata": {},
   "source": [
    "<hr>"
   ]
  },
  {
   "cell_type": "markdown",
   "metadata": {},
   "source": [
    "#####  FOR OUTPUT LABELS LIKE CLOUDY,GREEN_AREA,DESERT,WATER"
   ]
  },
  {
   "cell_type": "code",
   "execution_count": null,
   "metadata": {
    "vscode": {
     "languageId": "plaintext"
    }
   },
   "outputs": [],
   "source": [
    "def satelite_image_classification(model,img_path,img_size=(72,128)):\n",
    "      classes = {\n",
    "      0: \"cloudy\",\n",
    "      1: \"desert\",\n",
    "      2: \"water\",\n",
    "      3: \"green_area\"\n",
    "      }\n",
    "      sample_image_path=img_path\n",
    "      sample_image = image.load_img(sample_image_path, target_size=img_size)\n",
    "      sample_image = image.img_to_array(sample_image)\n",
    "\n",
    "\n",
    "      sample_image = tf.expand_dims(sample_image, axis=0)\n",
    "\n",
    "      predictions = model.predict(sample_image)\n",
    "\n",
    "      predicted_class_index = tf.argmax(predictions, axis=1).numpy()[0]\n",
    "      predicted_class = classes[predicted_class_index]\n",
    "\n",
    "      return predicted_class"
   ]
  },
  {
   "cell_type": "markdown",
   "metadata": {},
   "source": [
    "<hr>"
   ]
  },
  {
   "cell_type": "markdown",
   "metadata": {},
   "source": [
    "##### IOT DATA"
   ]
  },
  {
   "cell_type": "code",
   "execution_count": null,
   "metadata": {
    "vscode": {
     "languageId": "plaintext"
    }
   },
   "outputs": [],
   "source": [
    "def iot_data(model,AQI,PM25,\tPM10,\tO3,\tCO,\tSO2,\tNO2):\n",
    "    X=np.array([AQI,PM25,PM10,O3,CO,SO2,NO2])\n",
    "    aqi_dict = { 0:'Good' ,\n",
    "             1:'Moderate'  ,\n",
    "             2:'Unhealthy_for_Sensitive_Groups' ,\n",
    "             3:'Unhealthy',\n",
    "             4:'Very_Unhealthy'  ,\n",
    "             5:'Severe' }\n",
    "    return aqi_dict[np.argmax(model.predict(X.reshape(1,-1)))]"
   ]
  },
  {
   "cell_type": "markdown",
   "metadata": {},
   "source": [
    "<hr>"
   ]
  },
  {
   "cell_type": "markdown",
   "metadata": {},
   "source": [
    "## GENERLIZE FUNCTION "
   ]
  },
  {
   "cell_type": "code",
   "execution_count": null,
   "metadata": {
    "vscode": {
     "languageId": "plaintext"
    }
   },
   "outputs": [],
   "source": [
    "def generelizePredict(model,satelite_model,iot_model,img_path,AQI=None,PM25=None,\tPM10=None,\tO3=None,\tCO=None,\tSO2=None,\tNO2=None):\n",
    "    preds=predict_deforestation_pollution(model, img_path)\n",
    "\n",
    "    deforestation_prob = preds[0][0]\n",
    "    pollution_prob = preds[0][1]\n",
    "\n",
    "    classified=satelite_image_classification(satelite_model,img_path,img_size=(72,128))\n",
    "\n",
    "    iot_predict=iot_data(iot_model,AQI,PM25,\tPM10,\tO3,\tCO,\tSO2,\tNO2)\n",
    "\n",
    "    prompt_str=f\"\"\" Deforestattion Probability is :{deforestation_prob} Pollution Probability is :{pollution_prob} Classified as :{classified} Air Quality: {iot_predict} \"\"\"\n",
    "\n",
    "    return prompt_str"
   ]
  },
  {
   "cell_type": "markdown",
   "metadata": {},
   "source": [
    "<hr>"
   ]
  },
  {
   "cell_type": "markdown",
   "metadata": {},
   "source": [
    "#### DEMO USEAGE"
   ]
  },
  {
   "cell_type": "code",
   "execution_count": null,
   "metadata": {
    "vscode": {
     "languageId": "plaintext"
    }
   },
   "outputs": [],
   "source": [
    "generelizePredict(model,satelite_model,iot_pipeline,\"satellite-image-classification/data/green_area/Forest_1404.jpg\",63,31.00,52.00,10.00,6.00,4.0,2.00)"
   ]
  },
  {
   "cell_type": "markdown",
   "metadata": {},
   "source": [
    "### END\n",
    "<hr>"
   ]
  },
  {
   "cell_type": "markdown",
   "metadata": {},
   "source": []
  }
 ],
 "metadata": {
  "language_info": {
   "name": "python"
  }
 },
 "nbformat": 4,
 "nbformat_minor": 2
}
